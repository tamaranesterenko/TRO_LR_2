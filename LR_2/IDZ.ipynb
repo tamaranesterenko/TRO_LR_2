{
 "cells": [
  {
   "cell_type": "markdown",
   "id": "9d2eaaab",
   "metadata": {},
   "source": [
    "### Вариант №16\n",
    "Путем перестановки элементов квадратной вещественной матрицы добиться того, чтобы ее максимальный элемент находился в левом верхнем углу, следующий по величине - в позиции (2, 2), следующий по величине - в позиции (3, 3) и т. д., заполнив таким образом всю главную диагональ. Найти номер первой из строк, не содержащих ни одного положительного элемента."
   ]
  },
  {
   "cell_type": "code",
   "execution_count": 68,
   "id": "60f8aab5",
   "metadata": {},
   "outputs": [
    {
     "name": "stdout",
     "output_type": "stream",
     "text": [
      "Введите размер квадратной  матрицы (N): 3\n",
      "\n",
      "Введённая матрица\n",
      "10 -12 -42 \n",
      "-32 -18 -1 \n",
      "-11 -44 -31 \n",
      "Изменённая матрица\n",
      "10 -12 -42\n",
      "-32 -1 -18\n",
      "-31 -44 -11\n",
      "Первая строка, которая не содержит ни одного положительного элемента:  2\n"
     ]
    }
   ],
   "source": [
    "from random import *\n",
    "from math import *\n",
    "from heapq import nlargest\n",
    " \n",
    "n=int(input(\"Введите размер квадратной  матрицы (N): \"))\n",
    "A=[] \n",
    "B=[]\n",
    "maximum=0\n",
    "num=0\n",
    "lmax=0\n",
    "mmax=1\n",
    "for i in range(n):\n",
    "    A.append([0]*n) \n",
    "    B.append([3]*n)\n",
    "    \n",
    "print()\n",
    "print(\"Введённая матрица\") \n",
    "for Row in range(n): \n",
    "    for Col in range(n): # постолбцам\n",
    "        A[Row][Col]=randint(-99,10)       \n",
    "for i in range(n): # Выводрезультата\n",
    "    for j in range(n):\n",
    "            print(\"{0:02}\".format(A[i][j]), end=\" \")\n",
    "    print()\n",
    "print(\"Изменённая матрица\")\n",
    " \n",
    "matrix = A\n",
    "maxima = nlargest(n, ((matrix[i][j], i, j,) for i in range(n) for j in range(n)))\n",
    "for (_, i, j), k in zip(maxima, range(n)):\n",
    "    matrix[k][k], matrix[i][j] = matrix[i][j], matrix[k][k]\n",
    "for row in matrix:\n",
    "     print(*row)\n",
    " \n",
    "for i in range(n):\n",
    "    num += 1\n",
    "    flag = True\n",
    "    for j in range(n):\n",
    "        if (A[i][j]>0):\n",
    "            flag=False\n",
    "    if flag == True:\n",
    "        print(\"Первая строка, которая не содержит ни одного положительного элемента: \",num)\n",
    "        break"
   ]
  }
 ],
 "metadata": {
  "kernelspec": {
   "display_name": "Python 3 (ipykernel)",
   "language": "python",
   "name": "python3"
  },
  "language_info": {
   "codemirror_mode": {
    "name": "ipython",
    "version": 3
   },
   "file_extension": ".py",
   "mimetype": "text/x-python",
   "name": "python",
   "nbconvert_exporter": "python",
   "pygments_lexer": "ipython3",
   "version": "3.9.7"
  }
 },
 "nbformat": 4,
 "nbformat_minor": 5
}
